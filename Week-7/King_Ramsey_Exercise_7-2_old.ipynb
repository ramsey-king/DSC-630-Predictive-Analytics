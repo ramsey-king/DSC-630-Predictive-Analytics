{
 "cells": [
  {
   "cell_type": "markdown",
   "metadata": {},
   "source": [
    "# Ramsey King\n",
    "# DSC 630 - Predictive Analytics\n",
    "# October 16, 2021\n",
    "# Exercise 7.2"
   ]
  },
  {
   "cell_type": "code",
   "execution_count": null,
   "metadata": {},
   "outputs": [],
   "source": [
    "import pandas as pd\n",
    "import numpy as np\n",
    "\n",
    "hotel_destination_df = pd.read_csv('files/destinations.csv')\n",
    "train_df = pd.read_csv('files/train.csv')"
   ]
  },
  {
   "cell_type": "code",
   "execution_count": null,
   "metadata": {},
   "outputs": [],
   "source": [
    "# Explore train.csv\n",
    "print(train_df.shape)\n",
    "train_df.head(7)"
   ]
  },
  {
   "cell_type": "markdown",
   "metadata": {},
   "source": [
    "Wow!  37 million rows of data will probably take forever to do any analysis for a homework assignment.  After doing some exploratory data analysis, I will limit the data set.  I will first limit it 1 million rows, and then see what happens from there."
   ]
  },
  {
   "cell_type": "code",
   "execution_count": null,
   "metadata": {},
   "outputs": [],
   "source": [
    "print(\"Describe Data\")\n",
    "print(train_df.describe())\n",
    "\n",
    "print(\"Summarized Data\")\n",
    "train_df.describe(include=['O'])"
   ]
  },
  {
   "cell_type": "code",
   "execution_count": null,
   "metadata": {},
   "outputs": [],
   "source": [
    "# want to take a look at the column names\n",
    "train_df.columns"
   ]
  },
  {
   "cell_type": "code",
   "execution_count": null,
   "metadata": {},
   "outputs": [],
   "source": [
    "#unique values in the columns\n",
    "for col in train_df:\n",
    "    print(train_df[col].unique())"
   ]
  },
  {
   "cell_type": "code",
   "execution_count": 31,
   "metadata": {},
   "outputs": [
    {
     "name": "stdout",
     "output_type": "stream",
     "text": [
      "23980952    91\n",
      "25290527    91\n",
      "9599851     87\n",
      "8780164     36\n",
      "21668888    31\n",
      "            ..\n",
      "1111797     72\n",
      "5596611     95\n",
      "24197488     9\n",
      "35885173    83\n",
      "14221558    38\n",
      "Name: hotel_cluster, Length: 500000, dtype: int64\n"
     ]
    },
    {
     "data": {
      "text/plain": [
       "(500000, 24)"
      ]
     },
     "execution_count": 31,
     "metadata": {},
     "output_type": "execute_result"
    }
   ],
   "source": [
    "# going to randomly select 500,000 rows\n",
    "hotel_cluster_df = train_df.sample(n=500000)\n",
    "print(hotel_cluster_df['hotel_cluster'])\n",
    "hotel_cluster_df.shape"
   ]
  },
  {
   "cell_type": "code",
   "execution_count": 37,
   "metadata": {},
   "outputs": [
    {
     "name": "stdout",
     "output_type": "stream",
     "text": [
      "         d1        d2        d3        d4        d5        d6        d7  \\\n",
      "0  0.398318  0.355529  0.627440  0.551856  0.444484  0.393389  0.395061   \n",
      "1  0.415257  0.368283  0.649948  0.687316  0.460430  0.157815  0.409233   \n",
      "2  0.413460  0.336355  0.593601  0.562468  0.531733  0.236769  0.373755   \n",
      "3  0.419531  0.371501  0.655628  0.576648  0.464453  0.201462  0.412809   \n",
      "4  0.407398  0.363703  0.633607  0.583948  0.488048  0.253322  0.398944   \n",
      "\n",
      "         d8        d9       d10  ...      d140      d141      d142      d143  \\\n",
      "0  0.597215  0.393800  0.422568  ...  0.551455  0.276379  0.359880  0.527620   \n",
      "1  0.618640  0.305565  0.446605  ...  0.595388  0.286294  0.385468  0.546547   \n",
      "2  0.698454  0.233910  0.386432  ...  0.518132  0.261474  0.361613  0.499164   \n",
      "3  0.624046  0.209530  0.452670  ...  0.600545  0.288796  0.376048  0.551323   \n",
      "4  0.603086  0.230275  0.429155  ...  0.566219  0.279096  0.365113  0.532806   \n",
      "\n",
      "       d144      d145      d146      d147      d148      d149  \n",
      "0  0.536732  0.542211  0.354101  0.553345  0.496367  0.403786  \n",
      "1  0.555986  0.580764  0.366804  0.573196  0.514174  0.418271  \n",
      "2  0.544276  0.512969  0.335004  0.523502  0.469597  0.524258  \n",
      "3  0.560845  0.566570  0.370010  0.578205  0.518667  0.421926  \n",
      "4  0.542008  0.557684  0.357582  0.558784  0.501246  0.412853  \n",
      "\n",
      "[5 rows x 149 columns]\n",
      "[0, 1, 2, 3, 4, 5, 6, 7, 8, 9, 10, 11, 12, 13, 14, 15, 16, 17, 18, 19, 20, 21, 22, 23, 24, 25, 26, 27, 28, 29, 30, 31, 32, 33, 34, 35, 36, 37, 38, 39, 40, 41, 42, 43, 44, 45, 46, 47, 48, 49, 50, 51, 52, 53, 54, 55, 56, 57, 58, 59, 60, 61, 62, 63, 64, 65, 66, 67, 68, 69, 70, 71, 72, 73, 74, 75, 76, 77, 78, 79, 80, 81, 82, 83, 84, 85, 86, 87, 88, 89, 90, 91, 92, 93, 94, 95, 96, 97, 98, 99] 100\n"
     ]
    },
    {
     "data": {
      "text/plain": [
       "(62106, 149)"
      ]
     },
     "execution_count": 37,
     "metadata": {},
     "output_type": "execute_result"
    }
   ],
   "source": [
    "# will normalize the destinations.csv file to create some uniformity.\n",
    "\n",
    "from sklearn import preprocessing\n",
    "# hotel_destination_df.set_index('srch_destination_id', inplace=True)\n",
    "scaler = preprocessing.MinMaxScaler()\n",
    "names = hotel_destination_df.columns\n",
    "new_vals = scaler.fit_transform(hotel_destination_df)\n",
    "hotel_destination_scaled_df = pd.DataFrame(new_vals, columns=names)\n",
    "print(hotel_destination_scaled_df.head())\n",
    "clusters = hotel_cluster_df.hotel_cluster.unique()\n",
    "print(sorted(clusters), len(clusters))\n",
    "hotel_destination_scaled_df.shape\n"
   ]
  },
  {
   "cell_type": "code",
   "execution_count": 38,
   "metadata": {},
   "outputs": [
    {
     "data": {
      "text/plain": [
       "(62106, 3)"
      ]
     },
     "execution_count": 38,
     "metadata": {},
     "output_type": "execute_result"
    }
   ],
   "source": [
    "# PCA\n",
    "from sklearn.decomposition import PCA\n",
    "\n",
    "principal = PCA(n_components=3)\n",
    "principal.fit(hotel_destination_scaled_df)\n",
    "x = principal.transform(hotel_destination_scaled_df)\n",
    "x.shape"
   ]
  },
  {
   "cell_type": "code",
   "execution_count": 42,
   "metadata": {},
   "outputs": [
    {
     "name": "stdout",
     "output_type": "stream",
     "text": [
      "[0.54139786 0.07351881 0.04061735] 0.655534013208587\n"
     ]
    }
   ],
   "source": [
    "#\n",
    "print(principal.explained_variance_ratio_, sum(principal.explained_variance_ratio_))"
   ]
  },
  {
   "cell_type": "code",
   "execution_count": 40,
   "metadata": {},
   "outputs": [
    {
     "name": "stdout",
     "output_type": "stream",
     "text": [
      "            d1        d2        d3        d4        d5        d6        d7  \\\n",
      "PC-1 -0.049479 -0.038810 -0.092330 -0.042998  0.027176  0.185096 -0.043174   \n",
      "PC-2  0.039399 -0.015616 -0.017112 -0.095634 -0.172968 -0.040195 -0.037762   \n",
      "PC-3 -0.012553  0.001597 -0.031341  0.097676  0.227925  0.004083 -0.022375   \n",
      "\n",
      "            d8        d9       d10  ...      d140      d141      d142  \\\n",
      "PC-1 -0.067628  0.053126 -0.047014  ... -0.085841 -0.029723 -0.046352   \n",
      "PC-2 -0.049103  0.580539 -0.053472  ...  0.024793 -0.003497  0.002962   \n",
      "PC-3 -0.019818  0.230329 -0.013410  ... -0.046297 -0.019364 -0.041612   \n",
      "\n",
      "          d143      d144      d145      d146      d147      d148      d149  \n",
      "PC-1 -0.069747 -0.070459 -0.075451 -0.048808 -0.080328 -0.072954 -0.042774  \n",
      "PC-2  0.015310 -0.009250  0.034437 -0.007938 -0.001077  0.000661 -0.035099  \n",
      "PC-3 -0.009027 -0.009342 -0.024663 -0.034882 -0.040624 -0.039169 -0.000682  \n",
      "\n",
      "[3 rows x 149 columns]\n"
     ]
    }
   ],
   "source": [
    "print(pd.DataFrame(principal.components_,columns=hotel_destination_scaled_df.columns,index = ['PC-1','PC-2','PC-3']))\n"
   ]
  }
 ],
 "metadata": {
  "interpreter": {
   "hash": "bf60427b139290154779a7e38fd0f127f78e5a9dfc17b4a4bd1d849158c5fa70"
  },
  "kernelspec": {
   "display_name": "Python 3.7.6 64-bit ('base': conda)",
   "name": "python3"
  },
  "language_info": {
   "codemirror_mode": {
    "name": "ipython",
    "version": 3
   },
   "file_extension": ".py",
   "mimetype": "text/x-python",
   "name": "python",
   "nbconvert_exporter": "python",
   "pygments_lexer": "ipython3",
   "version": "3.7.6"
  },
  "orig_nbformat": 4
 },
 "nbformat": 4,
 "nbformat_minor": 2
}
