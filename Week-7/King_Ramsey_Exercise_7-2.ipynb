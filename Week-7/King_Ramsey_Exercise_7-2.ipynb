{
 "cells": [
  {
   "cell_type": "markdown",
   "metadata": {},
   "source": [
    "# Ramsey King\n",
    "# DSC 630 - Predictive Analytics\n",
    "# October 16, 2021\n",
    "# Exercise 7.2"
   ]
  },
  {
   "cell_type": "code",
   "execution_count": 2,
   "metadata": {},
   "outputs": [],
   "source": [
    "import pandas as pd\n",
    "import numpy as np\n",
    "\n",
    "hotel_destination_df = pd.read_csv('files/destinations.csv')\n",
    "train_df = pd.read_csv('files/train.csv')"
   ]
  },
  {
   "cell_type": "code",
   "execution_count": 3,
   "metadata": {},
   "outputs": [
    {
     "name": "stdout",
     "output_type": "stream",
     "text": [
      "(37670293, 24)\n"
     ]
    },
    {
     "data": {
      "text/html": [
       "<div>\n",
       "<style scoped>\n",
       "    .dataframe tbody tr th:only-of-type {\n",
       "        vertical-align: middle;\n",
       "    }\n",
       "\n",
       "    .dataframe tbody tr th {\n",
       "        vertical-align: top;\n",
       "    }\n",
       "\n",
       "    .dataframe thead th {\n",
       "        text-align: right;\n",
       "    }\n",
       "</style>\n",
       "<table border=\"1\" class=\"dataframe\">\n",
       "  <thead>\n",
       "    <tr style=\"text-align: right;\">\n",
       "      <th></th>\n",
       "      <th>date_time</th>\n",
       "      <th>site_name</th>\n",
       "      <th>posa_continent</th>\n",
       "      <th>user_location_country</th>\n",
       "      <th>user_location_region</th>\n",
       "      <th>user_location_city</th>\n",
       "      <th>orig_destination_distance</th>\n",
       "      <th>user_id</th>\n",
       "      <th>is_mobile</th>\n",
       "      <th>is_package</th>\n",
       "      <th>...</th>\n",
       "      <th>srch_children_cnt</th>\n",
       "      <th>srch_rm_cnt</th>\n",
       "      <th>srch_destination_id</th>\n",
       "      <th>srch_destination_type_id</th>\n",
       "      <th>is_booking</th>\n",
       "      <th>cnt</th>\n",
       "      <th>hotel_continent</th>\n",
       "      <th>hotel_country</th>\n",
       "      <th>hotel_market</th>\n",
       "      <th>hotel_cluster</th>\n",
       "    </tr>\n",
       "  </thead>\n",
       "  <tbody>\n",
       "    <tr>\n",
       "      <th>0</th>\n",
       "      <td>2014-08-11 07:46:59</td>\n",
       "      <td>2</td>\n",
       "      <td>3</td>\n",
       "      <td>66</td>\n",
       "      <td>348</td>\n",
       "      <td>48862</td>\n",
       "      <td>2234.2641</td>\n",
       "      <td>12</td>\n",
       "      <td>0</td>\n",
       "      <td>1</td>\n",
       "      <td>...</td>\n",
       "      <td>0</td>\n",
       "      <td>1</td>\n",
       "      <td>8250</td>\n",
       "      <td>1</td>\n",
       "      <td>0</td>\n",
       "      <td>3</td>\n",
       "      <td>2</td>\n",
       "      <td>50</td>\n",
       "      <td>628</td>\n",
       "      <td>1</td>\n",
       "    </tr>\n",
       "    <tr>\n",
       "      <th>1</th>\n",
       "      <td>2014-08-11 08:22:12</td>\n",
       "      <td>2</td>\n",
       "      <td>3</td>\n",
       "      <td>66</td>\n",
       "      <td>348</td>\n",
       "      <td>48862</td>\n",
       "      <td>2234.2641</td>\n",
       "      <td>12</td>\n",
       "      <td>0</td>\n",
       "      <td>1</td>\n",
       "      <td>...</td>\n",
       "      <td>0</td>\n",
       "      <td>1</td>\n",
       "      <td>8250</td>\n",
       "      <td>1</td>\n",
       "      <td>1</td>\n",
       "      <td>1</td>\n",
       "      <td>2</td>\n",
       "      <td>50</td>\n",
       "      <td>628</td>\n",
       "      <td>1</td>\n",
       "    </tr>\n",
       "    <tr>\n",
       "      <th>2</th>\n",
       "      <td>2014-08-11 08:24:33</td>\n",
       "      <td>2</td>\n",
       "      <td>3</td>\n",
       "      <td>66</td>\n",
       "      <td>348</td>\n",
       "      <td>48862</td>\n",
       "      <td>2234.2641</td>\n",
       "      <td>12</td>\n",
       "      <td>0</td>\n",
       "      <td>0</td>\n",
       "      <td>...</td>\n",
       "      <td>0</td>\n",
       "      <td>1</td>\n",
       "      <td>8250</td>\n",
       "      <td>1</td>\n",
       "      <td>0</td>\n",
       "      <td>1</td>\n",
       "      <td>2</td>\n",
       "      <td>50</td>\n",
       "      <td>628</td>\n",
       "      <td>1</td>\n",
       "    </tr>\n",
       "    <tr>\n",
       "      <th>3</th>\n",
       "      <td>2014-08-09 18:05:16</td>\n",
       "      <td>2</td>\n",
       "      <td>3</td>\n",
       "      <td>66</td>\n",
       "      <td>442</td>\n",
       "      <td>35390</td>\n",
       "      <td>913.1932</td>\n",
       "      <td>93</td>\n",
       "      <td>0</td>\n",
       "      <td>0</td>\n",
       "      <td>...</td>\n",
       "      <td>0</td>\n",
       "      <td>1</td>\n",
       "      <td>14984</td>\n",
       "      <td>1</td>\n",
       "      <td>0</td>\n",
       "      <td>1</td>\n",
       "      <td>2</td>\n",
       "      <td>50</td>\n",
       "      <td>1457</td>\n",
       "      <td>80</td>\n",
       "    </tr>\n",
       "    <tr>\n",
       "      <th>4</th>\n",
       "      <td>2014-08-09 18:08:18</td>\n",
       "      <td>2</td>\n",
       "      <td>3</td>\n",
       "      <td>66</td>\n",
       "      <td>442</td>\n",
       "      <td>35390</td>\n",
       "      <td>913.6259</td>\n",
       "      <td>93</td>\n",
       "      <td>0</td>\n",
       "      <td>0</td>\n",
       "      <td>...</td>\n",
       "      <td>0</td>\n",
       "      <td>1</td>\n",
       "      <td>14984</td>\n",
       "      <td>1</td>\n",
       "      <td>0</td>\n",
       "      <td>1</td>\n",
       "      <td>2</td>\n",
       "      <td>50</td>\n",
       "      <td>1457</td>\n",
       "      <td>21</td>\n",
       "    </tr>\n",
       "    <tr>\n",
       "      <th>5</th>\n",
       "      <td>2014-08-09 18:13:12</td>\n",
       "      <td>2</td>\n",
       "      <td>3</td>\n",
       "      <td>66</td>\n",
       "      <td>442</td>\n",
       "      <td>35390</td>\n",
       "      <td>911.5142</td>\n",
       "      <td>93</td>\n",
       "      <td>0</td>\n",
       "      <td>0</td>\n",
       "      <td>...</td>\n",
       "      <td>0</td>\n",
       "      <td>1</td>\n",
       "      <td>14984</td>\n",
       "      <td>1</td>\n",
       "      <td>0</td>\n",
       "      <td>1</td>\n",
       "      <td>2</td>\n",
       "      <td>50</td>\n",
       "      <td>1457</td>\n",
       "      <td>92</td>\n",
       "    </tr>\n",
       "    <tr>\n",
       "      <th>6</th>\n",
       "      <td>2014-07-16 09:42:23</td>\n",
       "      <td>2</td>\n",
       "      <td>3</td>\n",
       "      <td>66</td>\n",
       "      <td>189</td>\n",
       "      <td>10067</td>\n",
       "      <td>NaN</td>\n",
       "      <td>501</td>\n",
       "      <td>0</td>\n",
       "      <td>0</td>\n",
       "      <td>...</td>\n",
       "      <td>0</td>\n",
       "      <td>1</td>\n",
       "      <td>8267</td>\n",
       "      <td>1</td>\n",
       "      <td>0</td>\n",
       "      <td>2</td>\n",
       "      <td>2</td>\n",
       "      <td>50</td>\n",
       "      <td>675</td>\n",
       "      <td>41</td>\n",
       "    </tr>\n",
       "  </tbody>\n",
       "</table>\n",
       "<p>7 rows × 24 columns</p>\n",
       "</div>"
      ],
      "text/plain": [
       "             date_time  site_name  posa_continent  user_location_country  \\\n",
       "0  2014-08-11 07:46:59          2               3                     66   \n",
       "1  2014-08-11 08:22:12          2               3                     66   \n",
       "2  2014-08-11 08:24:33          2               3                     66   \n",
       "3  2014-08-09 18:05:16          2               3                     66   \n",
       "4  2014-08-09 18:08:18          2               3                     66   \n",
       "5  2014-08-09 18:13:12          2               3                     66   \n",
       "6  2014-07-16 09:42:23          2               3                     66   \n",
       "\n",
       "   user_location_region  user_location_city  orig_destination_distance  \\\n",
       "0                   348               48862                  2234.2641   \n",
       "1                   348               48862                  2234.2641   \n",
       "2                   348               48862                  2234.2641   \n",
       "3                   442               35390                   913.1932   \n",
       "4                   442               35390                   913.6259   \n",
       "5                   442               35390                   911.5142   \n",
       "6                   189               10067                        NaN   \n",
       "\n",
       "   user_id  is_mobile  is_package  ...  srch_children_cnt srch_rm_cnt  \\\n",
       "0       12          0           1  ...                  0           1   \n",
       "1       12          0           1  ...                  0           1   \n",
       "2       12          0           0  ...                  0           1   \n",
       "3       93          0           0  ...                  0           1   \n",
       "4       93          0           0  ...                  0           1   \n",
       "5       93          0           0  ...                  0           1   \n",
       "6      501          0           0  ...                  0           1   \n",
       "\n",
       "  srch_destination_id  srch_destination_type_id  is_booking  cnt  \\\n",
       "0                8250                         1           0    3   \n",
       "1                8250                         1           1    1   \n",
       "2                8250                         1           0    1   \n",
       "3               14984                         1           0    1   \n",
       "4               14984                         1           0    1   \n",
       "5               14984                         1           0    1   \n",
       "6                8267                         1           0    2   \n",
       "\n",
       "   hotel_continent  hotel_country  hotel_market  hotel_cluster  \n",
       "0                2             50           628              1  \n",
       "1                2             50           628              1  \n",
       "2                2             50           628              1  \n",
       "3                2             50          1457             80  \n",
       "4                2             50          1457             21  \n",
       "5                2             50          1457             92  \n",
       "6                2             50           675             41  \n",
       "\n",
       "[7 rows x 24 columns]"
      ]
     },
     "execution_count": 3,
     "metadata": {},
     "output_type": "execute_result"
    }
   ],
   "source": [
    "# Explore train.csv\n",
    "print(train_df.shape)\n",
    "train_df.head(7)"
   ]
  },
  {
   "cell_type": "markdown",
   "metadata": {},
   "source": [
    "Wow!  37 million rows of data will probably take forever to do any analysis for a homework assignment.  After doing some exploratory data analysis, I will limit the data set.  I will first limit it 1 million rows, and then see what happens from there."
   ]
  },
  {
   "cell_type": "code",
   "execution_count": 4,
   "metadata": {},
   "outputs": [
    {
     "name": "stdout",
     "output_type": "stream",
     "text": [
      "Describe Data\n",
      "          site_name  posa_continent  user_location_country  \\\n",
      "count  3.767029e+07    3.767029e+07           3.767029e+07   \n",
      "mean   9.795271e+00    2.680473e+00           8.610880e+01   \n",
      "std    1.196754e+01    7.480393e-01           5.924310e+01   \n",
      "min    2.000000e+00    0.000000e+00           0.000000e+00   \n",
      "25%    2.000000e+00    3.000000e+00           6.600000e+01   \n",
      "50%    2.000000e+00    3.000000e+00           6.600000e+01   \n",
      "75%    1.400000e+01    3.000000e+00           7.000000e+01   \n",
      "max    5.300000e+01    4.000000e+00           2.390000e+02   \n",
      "\n",
      "       user_location_region  user_location_city  orig_destination_distance  \\\n",
      "count          3.767029e+07        3.767029e+07               2.414529e+07   \n",
      "mean           3.084060e+02        2.775304e+04               1.970090e+03   \n",
      "std            2.084437e+02        1.678255e+04               2.232442e+03   \n",
      "min            0.000000e+00        0.000000e+00               5.600000e-03   \n",
      "25%            1.740000e+02        1.300900e+04               3.131670e+02   \n",
      "50%            3.140000e+02        2.765500e+04               1.140491e+03   \n",
      "75%            3.850000e+02        4.241300e+04               2.552599e+03   \n",
      "max            1.027000e+03        5.650800e+04               1.240790e+04   \n",
      "\n",
      "            user_id     is_mobile    is_package       channel  ...  \\\n",
      "count  3.767029e+07  3.767029e+07  3.767029e+07  3.767029e+07  ...   \n",
      "mean   6.044518e+05  1.349265e-01  2.489042e-01  5.870761e+00  ...   \n",
      "std    3.506175e+05  3.416451e-01  4.323782e-01  3.717095e+00  ...   \n",
      "min    0.000000e+00  0.000000e+00  0.000000e+00  0.000000e+00  ...   \n",
      "25%    2.989100e+05  0.000000e+00  0.000000e+00  2.000000e+00  ...   \n",
      "50%    6.039140e+05  0.000000e+00  0.000000e+00  9.000000e+00  ...   \n",
      "75%    9.101680e+05  0.000000e+00  0.000000e+00  9.000000e+00  ...   \n",
      "max    1.198785e+06  1.000000e+00  1.000000e+00  1.000000e+01  ...   \n",
      "\n",
      "       srch_children_cnt   srch_rm_cnt  srch_destination_id  \\\n",
      "count       3.767029e+07  3.767029e+07         3.767029e+07   \n",
      "mean        3.321222e-01  1.112663e+00         1.444109e+04   \n",
      "std         7.314981e-01  4.591155e-01         1.106630e+04   \n",
      "min         0.000000e+00  0.000000e+00         0.000000e+00   \n",
      "25%         0.000000e+00  1.000000e+00         8.267000e+03   \n",
      "50%         0.000000e+00  1.000000e+00         9.147000e+03   \n",
      "75%         0.000000e+00  1.000000e+00         1.879000e+04   \n",
      "max         9.000000e+00  8.000000e+00         6.510700e+04   \n",
      "\n",
      "       srch_destination_type_id    is_booking           cnt  hotel_continent  \\\n",
      "count              3.767029e+07  3.767029e+07  3.767029e+07     3.767029e+07   \n",
      "mean               2.582280e+00  7.965675e-02  1.483384e+00     3.156305e+00   \n",
      "std                2.153019e+00  2.707611e-01  1.219776e+00     1.623189e+00   \n",
      "min                0.000000e+00  0.000000e+00  1.000000e+00     0.000000e+00   \n",
      "25%                1.000000e+00  0.000000e+00  1.000000e+00     2.000000e+00   \n",
      "50%                1.000000e+00  0.000000e+00  1.000000e+00     2.000000e+00   \n",
      "75%                5.000000e+00  0.000000e+00  2.000000e+00     4.000000e+00   \n",
      "max                9.000000e+00  1.000000e+00  2.690000e+02     6.000000e+00   \n",
      "\n",
      "       hotel_country  hotel_market  hotel_cluster  \n",
      "count   3.767029e+07  3.767029e+07   3.767029e+07  \n",
      "mean    8.129685e+01  6.004619e+02   4.980861e+01  \n",
      "std     5.617119e+01  5.117391e+02   2.891595e+01  \n",
      "min     0.000000e+00  0.000000e+00   0.000000e+00  \n",
      "25%     5.000000e+01  1.600000e+02   2.500000e+01  \n",
      "50%     5.000000e+01  5.930000e+02   4.900000e+01  \n",
      "75%     1.060000e+02  7.010000e+02   7.300000e+01  \n",
      "max     2.120000e+02  2.117000e+03   9.900000e+01  \n",
      "\n",
      "[8 rows x 21 columns]\n",
      "Summarized Data\n"
     ]
    },
    {
     "data": {
      "text/html": [
       "<div>\n",
       "<style scoped>\n",
       "    .dataframe tbody tr th:only-of-type {\n",
       "        vertical-align: middle;\n",
       "    }\n",
       "\n",
       "    .dataframe tbody tr th {\n",
       "        vertical-align: top;\n",
       "    }\n",
       "\n",
       "    .dataframe thead th {\n",
       "        text-align: right;\n",
       "    }\n",
       "</style>\n",
       "<table border=\"1\" class=\"dataframe\">\n",
       "  <thead>\n",
       "    <tr style=\"text-align: right;\">\n",
       "      <th></th>\n",
       "      <th>date_time</th>\n",
       "      <th>srch_ci</th>\n",
       "      <th>srch_co</th>\n",
       "    </tr>\n",
       "  </thead>\n",
       "  <tbody>\n",
       "    <tr>\n",
       "      <th>count</th>\n",
       "      <td>37670293</td>\n",
       "      <td>37623210</td>\n",
       "      <td>37623209</td>\n",
       "    </tr>\n",
       "    <tr>\n",
       "      <th>unique</th>\n",
       "      <td>25419546</td>\n",
       "      <td>1269</td>\n",
       "      <td>1262</td>\n",
       "    </tr>\n",
       "    <tr>\n",
       "      <th>top</th>\n",
       "      <td>2014-11-06 17:34:48</td>\n",
       "      <td>2014-12-26</td>\n",
       "      <td>2015-01-02</td>\n",
       "    </tr>\n",
       "    <tr>\n",
       "      <th>freq</th>\n",
       "      <td>15</td>\n",
       "      <td>223153</td>\n",
       "      <td>218447</td>\n",
       "    </tr>\n",
       "  </tbody>\n",
       "</table>\n",
       "</div>"
      ],
      "text/plain": [
       "                  date_time     srch_ci     srch_co\n",
       "count              37670293    37623210    37623209\n",
       "unique             25419546        1269        1262\n",
       "top     2014-11-06 17:34:48  2014-12-26  2015-01-02\n",
       "freq                     15      223153      218447"
      ]
     },
     "execution_count": 4,
     "metadata": {},
     "output_type": "execute_result"
    }
   ],
   "source": [
    "print(\"Describe Data\")\n",
    "print(train_df.describe())\n",
    "\n",
    "print(\"Summarized Data\")\n",
    "train_df.describe(include=['O'])"
   ]
  },
  {
   "cell_type": "code",
   "execution_count": 5,
   "metadata": {},
   "outputs": [
    {
     "data": {
      "text/plain": [
       "Index(['date_time', 'site_name', 'posa_continent', 'user_location_country',\n",
       "       'user_location_region', 'user_location_city',\n",
       "       'orig_destination_distance', 'user_id', 'is_mobile', 'is_package',\n",
       "       'channel', 'srch_ci', 'srch_co', 'srch_adults_cnt', 'srch_children_cnt',\n",
       "       'srch_rm_cnt', 'srch_destination_id', 'srch_destination_type_id',\n",
       "       'is_booking', 'cnt', 'hotel_continent', 'hotel_country', 'hotel_market',\n",
       "       'hotel_cluster'],\n",
       "      dtype='object')"
      ]
     },
     "execution_count": 5,
     "metadata": {},
     "output_type": "execute_result"
    }
   ],
   "source": [
    "# want to take a look at the column names\n",
    "train_df.columns"
   ]
  },
  {
   "cell_type": "code",
   "execution_count": 6,
   "metadata": {},
   "outputs": [
    {
     "data": {
      "text/plain": [
       "'for col in train_df:\\n    print(train_df[col].unique())'"
      ]
     },
     "execution_count": 6,
     "metadata": {},
     "output_type": "execute_result"
    }
   ],
   "source": [
    "#unique values in the columns\n",
    "'''for col in train_df:\n",
    "    print(train_df[col].unique())'''"
   ]
  },
  {
   "cell_type": "code",
   "execution_count": 7,
   "metadata": {},
   "outputs": [
    {
     "name": "stdout",
     "output_type": "stream",
     "text": [
      "36732766    89\n",
      "20277215     2\n",
      "23404975    91\n",
      "20969207    10\n",
      "2144632     30\n",
      "            ..\n",
      "3342677     82\n",
      "23452602    83\n",
      "4844021     48\n",
      "4700696     89\n",
      "13523751    40\n",
      "Name: hotel_cluster, Length: 500000, dtype: int64\n"
     ]
    },
    {
     "data": {
      "text/plain": [
       "(500000, 24)"
      ]
     },
     "execution_count": 7,
     "metadata": {},
     "output_type": "execute_result"
    }
   ],
   "source": [
    "# going to randomly select 500,000 rows\n",
    "hotel_cluster_df = train_df.sample(n=500000)\n",
    "print(hotel_cluster_df['hotel_cluster'])\n",
    "hotel_cluster_df.shape"
   ]
  },
  {
   "cell_type": "code",
   "execution_count": 8,
   "metadata": {},
   "outputs": [
    {
     "data": {
      "text/plain": [
       "36732766    2.0\n",
       "20277215    5.0\n",
       "23404975    3.0\n",
       "20969207    7.0\n",
       "2144632     2.0\n",
       "16674193    1.0\n",
       "13766342    5.0\n",
       "Name: length_of_stay, dtype: float64"
      ]
     },
     "execution_count": 8,
     "metadata": {},
     "output_type": "execute_result"
    }
   ],
   "source": [
    "# create a column that will calculate the length of stay in days\n",
    "hotel_cluster_df['length_of_stay'] = pd.to_datetime(hotel_cluster_df['srch_co']) - pd.to_datetime(hotel_cluster_df['srch_ci'])\n",
    "hotel_cluster_df['length_of_stay'] = hotel_cluster_df['length_of_stay'].apply(lambda x: x.days)\n",
    "hotel_cluster_df['length_of_stay'].fillna(1000, inplace=True)\n",
    "hotel_cluster_df['length_of_stay'][:7]"
   ]
  },
  {
   "cell_type": "code",
   "execution_count": 9,
   "metadata": {},
   "outputs": [],
   "source": [
    "# Removing the time columns (date_time, srch_ci, srch_co) and then removing the target column hotel_cluster\n",
    "\n",
    "# columns_to_drop = ['date_time', 'srch_ci', 'srch_co']\n",
    "# hotel_cluster_df.drop(columns=columns_to_drop, inplace=True)\n",
    "features = ['site_name', 'posa_continent', 'user_location_country',\n",
    "       'user_location_region', 'user_location_city',\n",
    "       'orig_destination_distance', 'user_id', 'is_mobile', 'is_package',\n",
    "       'channel', 'srch_adults_cnt', 'srch_children_cnt', 'srch_rm_cnt',\n",
    "       'srch_destination_id', 'srch_destination_type_id', 'is_booking', 'cnt',\n",
    "       'hotel_continent', 'hotel_country', 'hotel_market', 'length_of_stay'\n",
    "       ]\n",
    "x = hotel_cluster_df.loc[:, features].values\n",
    "y = hotel_cluster_df.loc[:, ['hotel_cluster']].values"
   ]
  },
  {
   "cell_type": "code",
   "execution_count": 10,
   "metadata": {},
   "outputs": [
    {
     "name": "stdout",
     "output_type": "stream",
     "text": [
      "                    date_time  site_name  posa_continent  \\\n",
      "36732766  2014-06-07 02:25:12         24               2   \n",
      "20277215  2013-04-13 04:24:29          2               3   \n",
      "23404975  2014-12-08 13:55:40          2               3   \n",
      "20969207  2013-05-11 19:18:16         37               1   \n",
      "2144632   2014-06-30 15:10:19         11               3   \n",
      "\n",
      "          user_location_country  user_location_region  user_location_city  \\\n",
      "36732766                      3                    50                5703   \n",
      "20277215                     66                   314                4868   \n",
      "23404975                     66                   184                2037   \n",
      "20969207                     69                   747                6783   \n",
      "2144632                     205                   155               40095   \n",
      "\n",
      "          orig_destination_distance  user_id  is_mobile  is_package  ...  \\\n",
      "36732766                        NaN   242642          0           1  ...   \n",
      "20277215                  3565.8812  1042920          0           0  ...   \n",
      "23404975                     2.7365   965941          0           0  ...   \n",
      "20969207                        NaN   708437          0           1  ...   \n",
      "2144632                    143.8258   639358          1           0  ...   \n",
      "\n",
      "          srch_rm_cnt srch_destination_id srch_destination_type_id  \\\n",
      "36732766            1                 635                        1   \n",
      "20277215            1               12623                        5   \n",
      "23404975            1               12194                        6   \n",
      "20969207            2                8740                        1   \n",
      "2144632             1               26322                        1   \n",
      "\n",
      "          is_booking  cnt  hotel_continent  hotel_country  hotel_market  \\\n",
      "36732766           0    3                3            162          1039   \n",
      "20277215           0    4                6            170           313   \n",
      "23404975           0    1                2             50           656   \n",
      "20969207           0    1                6            105            12   \n",
      "2144632            0    1                2            198          1624   \n",
      "\n",
      "          hotel_cluster  length_of_stay  \n",
      "36732766             89             2.0  \n",
      "20277215              2             5.0  \n",
      "23404975             91             3.0  \n",
      "20969207             10             7.0  \n",
      "2144632              30             2.0  \n",
      "\n",
      "[5 rows x 25 columns]\n"
     ]
    },
    {
     "data": {
      "text/html": [
       "<div>\n",
       "<style scoped>\n",
       "    .dataframe tbody tr th:only-of-type {\n",
       "        vertical-align: middle;\n",
       "    }\n",
       "\n",
       "    .dataframe tbody tr th {\n",
       "        vertical-align: top;\n",
       "    }\n",
       "\n",
       "    .dataframe thead th {\n",
       "        text-align: right;\n",
       "    }\n",
       "</style>\n",
       "<table border=\"1\" class=\"dataframe\">\n",
       "  <thead>\n",
       "    <tr style=\"text-align: right;\">\n",
       "      <th></th>\n",
       "      <th>srch_destination_id</th>\n",
       "      <th>date_time</th>\n",
       "      <th>site_name</th>\n",
       "      <th>posa_continent</th>\n",
       "      <th>user_location_country</th>\n",
       "      <th>user_location_region</th>\n",
       "      <th>user_location_city</th>\n",
       "      <th>orig_destination_distance</th>\n",
       "      <th>user_id</th>\n",
       "      <th>is_mobile</th>\n",
       "      <th>...</th>\n",
       "      <th>d140</th>\n",
       "      <th>d141</th>\n",
       "      <th>d142</th>\n",
       "      <th>d143</th>\n",
       "      <th>d144</th>\n",
       "      <th>d145</th>\n",
       "      <th>d146</th>\n",
       "      <th>d147</th>\n",
       "      <th>d148</th>\n",
       "      <th>d149</th>\n",
       "    </tr>\n",
       "  </thead>\n",
       "  <tbody>\n",
       "    <tr>\n",
       "      <th>36732766</th>\n",
       "      <td>635</td>\n",
       "      <td>2014-06-07 02:25:12</td>\n",
       "      <td>24</td>\n",
       "      <td>2</td>\n",
       "      <td>3</td>\n",
       "      <td>50</td>\n",
       "      <td>5703</td>\n",
       "      <td>NaN</td>\n",
       "      <td>242642</td>\n",
       "      <td>0</td>\n",
       "      <td>...</td>\n",
       "      <td>-2.189452</td>\n",
       "      <td>-2.235919</td>\n",
       "      <td>-2.234932</td>\n",
       "      <td>-2.235919</td>\n",
       "      <td>-2.235919</td>\n",
       "      <td>-2.232275</td>\n",
       "      <td>-2.235919</td>\n",
       "      <td>-2.235919</td>\n",
       "      <td>-2.235919</td>\n",
       "      <td>-2.205414</td>\n",
       "    </tr>\n",
       "    <tr>\n",
       "      <th>15354788</th>\n",
       "      <td>635</td>\n",
       "      <td>2014-08-17 21:01:08</td>\n",
       "      <td>24</td>\n",
       "      <td>2</td>\n",
       "      <td>3</td>\n",
       "      <td>51</td>\n",
       "      <td>41641</td>\n",
       "      <td>NaN</td>\n",
       "      <td>1197368</td>\n",
       "      <td>0</td>\n",
       "      <td>...</td>\n",
       "      <td>-2.189452</td>\n",
       "      <td>-2.235919</td>\n",
       "      <td>-2.234932</td>\n",
       "      <td>-2.235919</td>\n",
       "      <td>-2.235919</td>\n",
       "      <td>-2.232275</td>\n",
       "      <td>-2.235919</td>\n",
       "      <td>-2.235919</td>\n",
       "      <td>-2.235919</td>\n",
       "      <td>-2.205414</td>\n",
       "    </tr>\n",
       "    <tr>\n",
       "      <th>27387853</th>\n",
       "      <td>635</td>\n",
       "      <td>2013-07-30 12:32:08</td>\n",
       "      <td>33</td>\n",
       "      <td>2</td>\n",
       "      <td>194</td>\n",
       "      <td>38</td>\n",
       "      <td>42328</td>\n",
       "      <td>NaN</td>\n",
       "      <td>946438</td>\n",
       "      <td>0</td>\n",
       "      <td>...</td>\n",
       "      <td>-2.189452</td>\n",
       "      <td>-2.235919</td>\n",
       "      <td>-2.234932</td>\n",
       "      <td>-2.235919</td>\n",
       "      <td>-2.235919</td>\n",
       "      <td>-2.232275</td>\n",
       "      <td>-2.235919</td>\n",
       "      <td>-2.235919</td>\n",
       "      <td>-2.235919</td>\n",
       "      <td>-2.205414</td>\n",
       "    </tr>\n",
       "    <tr>\n",
       "      <th>30036866</th>\n",
       "      <td>635</td>\n",
       "      <td>2014-03-08 23:34:05</td>\n",
       "      <td>24</td>\n",
       "      <td>2</td>\n",
       "      <td>3</td>\n",
       "      <td>64</td>\n",
       "      <td>3169</td>\n",
       "      <td>NaN</td>\n",
       "      <td>713334</td>\n",
       "      <td>0</td>\n",
       "      <td>...</td>\n",
       "      <td>-2.189452</td>\n",
       "      <td>-2.235919</td>\n",
       "      <td>-2.234932</td>\n",
       "      <td>-2.235919</td>\n",
       "      <td>-2.235919</td>\n",
       "      <td>-2.232275</td>\n",
       "      <td>-2.235919</td>\n",
       "      <td>-2.235919</td>\n",
       "      <td>-2.235919</td>\n",
       "      <td>-2.205414</td>\n",
       "    </tr>\n",
       "    <tr>\n",
       "      <th>30791484</th>\n",
       "      <td>635</td>\n",
       "      <td>2014-10-25 00:25:15</td>\n",
       "      <td>24</td>\n",
       "      <td>2</td>\n",
       "      <td>3</td>\n",
       "      <td>50</td>\n",
       "      <td>5224</td>\n",
       "      <td>NaN</td>\n",
       "      <td>242477</td>\n",
       "      <td>0</td>\n",
       "      <td>...</td>\n",
       "      <td>-2.189452</td>\n",
       "      <td>-2.235919</td>\n",
       "      <td>-2.234932</td>\n",
       "      <td>-2.235919</td>\n",
       "      <td>-2.235919</td>\n",
       "      <td>-2.232275</td>\n",
       "      <td>-2.235919</td>\n",
       "      <td>-2.235919</td>\n",
       "      <td>-2.235919</td>\n",
       "      <td>-2.205414</td>\n",
       "    </tr>\n",
       "  </tbody>\n",
       "</table>\n",
       "<p>5 rows × 176 columns</p>\n",
       "</div>"
      ],
      "text/plain": [
       "          srch_destination_id            date_time  site_name  posa_continent  \\\n",
       "36732766                  635  2014-06-07 02:25:12         24               2   \n",
       "15354788                  635  2014-08-17 21:01:08         24               2   \n",
       "27387853                  635  2013-07-30 12:32:08         33               2   \n",
       "30036866                  635  2014-03-08 23:34:05         24               2   \n",
       "30791484                  635  2014-10-25 00:25:15         24               2   \n",
       "\n",
       "          user_location_country  user_location_region  user_location_city  \\\n",
       "36732766                      3                    50                5703   \n",
       "15354788                      3                    51               41641   \n",
       "27387853                    194                    38               42328   \n",
       "30036866                      3                    64                3169   \n",
       "30791484                      3                    50                5224   \n",
       "\n",
       "          orig_destination_distance  user_id  is_mobile  ...      d140  \\\n",
       "36732766                        NaN   242642          0  ... -2.189452   \n",
       "15354788                        NaN  1197368          0  ... -2.189452   \n",
       "27387853                        NaN   946438          0  ... -2.189452   \n",
       "30036866                        NaN   713334          0  ... -2.189452   \n",
       "30791484                        NaN   242477          0  ... -2.189452   \n",
       "\n",
       "              d141      d142      d143      d144      d145      d146  \\\n",
       "36732766 -2.235919 -2.234932 -2.235919 -2.235919 -2.232275 -2.235919   \n",
       "15354788 -2.235919 -2.234932 -2.235919 -2.235919 -2.232275 -2.235919   \n",
       "27387853 -2.235919 -2.234932 -2.235919 -2.235919 -2.232275 -2.235919   \n",
       "30036866 -2.235919 -2.234932 -2.235919 -2.235919 -2.232275 -2.235919   \n",
       "30791484 -2.235919 -2.234932 -2.235919 -2.235919 -2.232275 -2.235919   \n",
       "\n",
       "              d147      d148      d149  \n",
       "36732766 -2.235919 -2.235919 -2.205414  \n",
       "15354788 -2.235919 -2.235919 -2.205414  \n",
       "27387853 -2.235919 -2.235919 -2.205414  \n",
       "30036866 -2.235919 -2.235919 -2.205414  \n",
       "30791484 -2.235919 -2.235919 -2.205414  \n",
       "\n",
       "[5 rows x 176 columns]"
      ]
     },
     "execution_count": 10,
     "metadata": {},
     "output_type": "execute_result"
    }
   ],
   "source": [
    "# merge the datasets from the hotel_cluster_df and hotel_destination_df together\n",
    "print(hotel_cluster_df.head())\n",
    "hotel_destination_df.head()\n",
    "\n",
    "expedia_df = pd.merge(hotel_cluster_df, hotel_destination_df, left_on='srch_destination_id', right_index=True)\n",
    "expedia_df.head()"
   ]
  },
  {
   "cell_type": "code",
   "execution_count": 28,
   "metadata": {},
   "outputs": [
    {
     "data": {
      "text/plain": [
       "Index(['srch_destination_id', 'date_time', 'site_name', 'posa_continent',\n",
       "       'user_location_country', 'user_location_region', 'user_location_city',\n",
       "       'orig_destination_distance', 'user_id', 'is_mobile',\n",
       "       ...\n",
       "       'd140', 'd141', 'd142', 'd143', 'd144', 'd145', 'd146', 'd147', 'd148',\n",
       "       'd149'],\n",
       "      dtype='object', length=176)"
      ]
     },
     "execution_count": 28,
     "metadata": {},
     "output_type": "execute_result"
    }
   ],
   "source": [
    "expedia_df.columns"
   ]
  },
  {
   "cell_type": "code",
   "execution_count": 26,
   "metadata": {},
   "outputs": [
    {
     "name": "stdout",
     "output_type": "stream",
     "text": [
      "499008\n"
     ]
    },
    {
     "data": {
      "text/plain": [
       "0"
      ]
     },
     "execution_count": 26,
     "metadata": {},
     "output_type": "execute_result"
    }
   ],
   "source": [
    "print(expedia_df['orig_destination_distance'].count())\n",
    "# expedia_df['orig_destination_distance'].fillna(-1, inplace=True)\n",
    "expedia_df['orig_destination_distance'].isnull().sum()\n"
   ]
  },
  {
   "cell_type": "code",
   "execution_count": 32,
   "metadata": {},
   "outputs": [],
   "source": [
    "# separate features from target\n",
    "features = ['site_name', 'posa_continent', 'user_location_country',\n",
    "       'user_location_region', 'user_location_city',\n",
    "       'orig_destination_distance', 'user_id', 'is_mobile', 'is_package',\n",
    "       'channel', 'srch_adults_cnt', 'srch_children_cnt', 'srch_rm_cnt',\n",
    "       'srch_destination_id', 'srch_destination_type_id', 'is_booking', 'cnt',\n",
    "       'hotel_continent', 'hotel_country', 'hotel_market', 'length_of_stay'\n",
    "       ]\n",
    "x = expedia_df.loc[:, features].values\n",
    "y = expedia_df.loc[:, ['hotel_cluster']].values"
   ]
  },
  {
   "cell_type": "code",
   "execution_count": 34,
   "metadata": {},
   "outputs": [
    {
     "data": {
      "text/plain": [
       "array([[ 1.18436782, -0.90701955, -1.40106421, ...,  1.44017475,\n",
       "         0.85879835, -0.07432334],\n",
       "       [ 1.18436782, -0.90701955, -1.40106421, ...,  1.44017475,\n",
       "         0.85879835, -0.04451513],\n",
       "       [ 1.9360639 , -0.90701955,  1.82171174, ...,  1.44017475,\n",
       "         0.85879835, -0.07432334],\n",
       "       ...,\n",
       "       [-0.65311149,  0.4276762 , -0.33805434, ..., -0.5558619 ,\n",
       "        -0.10908005, -0.01470692],\n",
       "       [-0.65311149,  0.4276762 , -0.33805434, ..., -0.5558619 ,\n",
       "         0.10600404, -0.04451513],\n",
       "       [ 2.27015104, -2.2417153 , -0.28743482, ...,  2.25997552,\n",
       "         1.89902322, -0.10413155]])"
      ]
     },
     "execution_count": 34,
     "metadata": {},
     "output_type": "execute_result"
    }
   ],
   "source": [
    "# standardize the data set\n",
    "from sklearn.preprocessing import StandardScaler\n",
    "scale = StandardScaler()\n",
    "expedia_scaled_df = scale.fit_transform(x)\n",
    "expedia_scaled_df"
   ]
  },
  {
   "cell_type": "code",
   "execution_count": 35,
   "metadata": {},
   "outputs": [],
   "source": [
    "from sklearn.model_selection import train_test_split\n",
    "x_train, x_test, y_train, y_test = train_test_split(\n",
    "    x, y, test_size=0.2, random_state=42)"
   ]
  },
  {
   "cell_type": "code",
   "execution_count": 36,
   "metadata": {},
   "outputs": [
    {
     "data": {
      "text/plain": [
       "LinearRegression(copy_X=True, fit_intercept=True, n_jobs=None, normalize=False)"
      ]
     },
     "execution_count": 36,
     "metadata": {},
     "output_type": "execute_result"
    }
   ],
   "source": [
    "from sklearn.linear_model import LinearRegression\n",
    "lr = LinearRegression()\n",
    "lr.fit(x_train, y_train)"
   ]
  },
  {
   "cell_type": "code",
   "execution_count": 40,
   "metadata": {},
   "outputs": [
    {
     "data": {
      "text/plain": [
       "0.006029909942670941"
      ]
     },
     "execution_count": 40,
     "metadata": {},
     "output_type": "execute_result"
    }
   ],
   "source": [
    "y_lr_train_pred = lr.predict(x_train)\n",
    "y_lr_test_pred = lr.predict(x_test)\n",
    "lr.score(x_test, y_test)"
   ]
  },
  {
   "cell_type": "code",
   "execution_count": 41,
   "metadata": {},
   "outputs": [
    {
     "name": "stderr",
     "output_type": "stream",
     "text": [
      "C:\\Users\\Ramsey\\anaconda3\\lib\\site-packages\\ipykernel_launcher.py:3: DataConversionWarning: A column-vector y was passed when a 1d array was expected. Please change the shape of y to (n_samples,), for example using ravel().\n",
      "  This is separate from the ipykernel package so we can avoid doing imports until\n"
     ]
    },
    {
     "data": {
      "text/plain": [
       "0.010065272203140796"
      ]
     },
     "execution_count": 41,
     "metadata": {},
     "output_type": "execute_result"
    }
   ],
   "source": [
    "from sklearn.ensemble import RandomForestRegressor\n",
    "rf = RandomForestRegressor(max_depth=2, random_state=42)\n",
    "rf.fit(x_train, y_train)\n",
    "y_rf_train_pred = rf.predict(x_train)\n",
    "y_rf_test_pred = rf.predict(x_test)\n",
    "rf.score(x_test, y_test)"
   ]
  },
  {
   "cell_type": "code",
   "execution_count": 12,
   "metadata": {},
   "outputs": [
    {
     "data": {
      "text/plain": [
       "\"from sklearn import preprocessing\\n# hotel_destination_df.set_index('srch_destination_id', inplace=True)\\nscaler = preprocessing.MinMaxScaler()\\nnames = hotel_destination_df.columns\\nnew_vals = scaler.fit_transform(hotel_destination_df)\\nhotel_destination_scaled_df = pd.DataFrame(new_vals, columns=names)\\nprint(hotel_destination_scaled_df.head())\\nclusters = hotel_cluster_df.hotel_cluster.unique()\\nprint(sorted(clusters), len(clusters))\\nhotel_destination_scaled_df.shape\""
      ]
     },
     "execution_count": 12,
     "metadata": {},
     "output_type": "execute_result"
    }
   ],
   "source": [
    "# will normalize the destinations.csv file to create some uniformity.\n",
    "\n",
    "'''from sklearn import preprocessing\n",
    "# hotel_destination_df.set_index('srch_destination_id', inplace=True)\n",
    "scaler = preprocessing.MinMaxScaler()\n",
    "names = hotel_destination_df.columns\n",
    "new_vals = scaler.fit_transform(hotel_destination_df)\n",
    "hotel_destination_scaled_df = pd.DataFrame(new_vals, columns=names)\n",
    "print(hotel_destination_scaled_df.head())\n",
    "clusters = hotel_cluster_df.hotel_cluster.unique()\n",
    "print(sorted(clusters), len(clusters))\n",
    "hotel_destination_scaled_df.shape'''\n"
   ]
  },
  {
   "cell_type": "code",
   "execution_count": 13,
   "metadata": {},
   "outputs": [
    {
     "data": {
      "text/plain": [
       "'from sklearn.decomposition import PCA\\n\\nprincipal = PCA(n_components=3)\\nprincipal.fit(hotel_destination_scaled_df)\\nx = principal.transform(hotel_destination_scaled_df)\\nx.shape'"
      ]
     },
     "execution_count": 13,
     "metadata": {},
     "output_type": "execute_result"
    }
   ],
   "source": [
    "# PCA\n",
    "'''from sklearn.decomposition import PCA\n",
    "\n",
    "principal = PCA(n_components=3)\n",
    "principal.fit(hotel_destination_scaled_df)\n",
    "x = principal.transform(hotel_destination_scaled_df)\n",
    "x.shape'''"
   ]
  },
  {
   "cell_type": "code",
   "execution_count": 14,
   "metadata": {},
   "outputs": [],
   "source": [
    "#\n",
    "# print(principal.explained_variance_ratio_, sum(principal.explained_variance_ratio_))"
   ]
  },
  {
   "cell_type": "code",
   "execution_count": 15,
   "metadata": {},
   "outputs": [],
   "source": [
    "# print(pd.DataFrame(principal.components_,columns=hotel_destination_scaled_df.columns,index = ['PC-1','PC-2','PC-3']))\n"
   ]
  }
 ],
 "metadata": {
  "interpreter": {
   "hash": "bf60427b139290154779a7e38fd0f127f78e5a9dfc17b4a4bd1d849158c5fa70"
  },
  "kernelspec": {
   "display_name": "Python 3.7.6 64-bit ('base': conda)",
   "name": "python3"
  },
  "language_info": {
   "codemirror_mode": {
    "name": "ipython",
    "version": 3
   },
   "file_extension": ".py",
   "mimetype": "text/x-python",
   "name": "python",
   "nbconvert_exporter": "python",
   "pygments_lexer": "ipython3",
   "version": "3.7.6"
  },
  "orig_nbformat": 4
 },
 "nbformat": 4,
 "nbformat_minor": 2
}
