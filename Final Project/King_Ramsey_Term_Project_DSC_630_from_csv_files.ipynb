{
 "cells": [
  {
   "cell_type": "markdown",
   "metadata": {},
   "source": [
    "This is the offline notebook that will pull the information in from csv files and peform the modeling."
   ]
  },
  {
   "cell_type": "code",
   "execution_count": 156,
   "metadata": {},
   "outputs": [
    {
     "name": "stdout",
     "output_type": "stream",
     "text": [
      "NFL df shape: (174, 129)\n",
      "College df shape: (1438, 54)\n"
     ]
    }
   ],
   "source": [
    "import pandas as pd\n",
    "import numpy as np\n",
    "\n",
    "nfl_qb_df = pd.read_csv('master_nfl_qb_df_filter.csv')\n",
    "college_qb_df = pd.read_csv('master_qb_df.csv')\n",
    "print('NFL df shape:', nfl_qb_df.shape)\n",
    "print('College df shape:', college_qb_df.shape)"
   ]
  },
  {
   "cell_type": "markdown",
   "metadata": {},
   "source": [
    "Now that we have the nfl and college qb df's loaded, we need to do a little data processing with the nfl dataframe to remove the non quarterbacks that are still remaining."
   ]
  },
  {
   "cell_type": "code",
   "execution_count": 157,
   "metadata": {},
   "outputs": [
    {
     "name": "stdout",
     "output_type": "stream",
     "text": [
      "NFL df shape: (158, 129)\n"
     ]
    }
   ],
   "source": [
    "nfl_qb_df = nfl_qb_df[nfl_qb_df['qb_record'].notnull()]\n",
    "print('NFL df shape:', nfl_qb_df.shape)"
   ]
  },
  {
   "cell_type": "markdown",
   "metadata": {},
   "source": [
    "1. Need to get list of Pro-Bowl QB's and add that to the nfl qb dataframe.  \n",
    "2. Then I will need a subset of qb's that have played at least 5 years, (started at least half their games), and have gone to a probowl.  \n",
    "3. From there, I can then make a column that says \"Success, true/false\" and then send that back to the college qb df."
   ]
  },
  {
   "cell_type": "code",
   "execution_count": 158,
   "metadata": {},
   "outputs": [
    {
     "data": {
      "text/plain": [
       "0        Rodney Peete\n",
       "2        Charlie Frye\n",
       "3         Chris Simms\n",
       "6       Brodie Croyle\n",
       "7        Chris Weinke\n",
       "            ...      \n",
       "168       Nick Foles \n",
       "169    Jameis Winston\n",
       "170         Matt Ryan\n",
       "171       Elvis Grbac\n",
       "173     Philip Rivers\n",
       "Name: Player, Length: 158, dtype: object"
      ]
     },
     "execution_count": 158,
     "metadata": {},
     "output_type": "execute_result"
    }
   ],
   "source": [
    "nfl_qb_df['Player']"
   ]
  },
  {
   "cell_type": "code",
   "execution_count": 159,
   "metadata": {},
   "outputs": [
    {
     "name": "stdout",
     "output_type": "stream",
     "text": [
      "195\n"
     ]
    },
    {
     "data": {
      "text/plain": [
       "0      False\n",
       "2      False\n",
       "3      False\n",
       "6      False\n",
       "7      False\n",
       "       ...  \n",
       "168     True\n",
       "169     True\n",
       "170     True\n",
       "171     True\n",
       "173     True\n",
       "Name: Pro Bowl Selection, Length: 158, dtype: bool"
      ]
     },
     "execution_count": 159,
     "metadata": {},
     "output_type": "execute_result"
    }
   ],
   "source": [
    "# we will read in the original dataset of the NFL QB's to get the list of Pro Bowl Quarterbacks\n",
    "\n",
    "original_nfl_qb_df = pd.read_excel('NFL_QBS_2000-2015.xlsx', sheet_name='OriginalData')\n",
    "\n",
    "def probowl(qb_name):\n",
    "    if '*' in qb_name:\n",
    "        return True\n",
    "    else:\n",
    "        return False\n",
    "\n",
    "original_nfl_qb_df = original_nfl_qb_df[original_nfl_qb_df['Pos'] != 'wr']\n",
    "original_nfl_qb_df = original_nfl_qb_df[(original_nfl_qb_df['Pos'] == 'QB') | (original_nfl_qb_df['Pos'] == '/qb') | (original_nfl_qb_df['Pos'].isnull()) | (original_nfl_qb_df['Pos'] == 'qb')]\n",
    "\n",
    "original_nfl_qb_df['ProBowl'] = original_nfl_qb_df['Player'].apply(probowl)\n",
    "\n",
    "\n",
    "nfl_pro_bowl_qb_list = original_nfl_qb_df[original_nfl_qb_df['ProBowl'] == True]\n",
    "\n",
    "nfl_pro_bowl_qb_list = nfl_pro_bowl_qb_list['Player'].to_list()\n",
    "print(len(nfl_pro_bowl_qb_list))\n",
    "nfl_pro_bowl_qb_list = [x.replace(\"+\", \"\") for x in nfl_pro_bowl_qb_list]\n",
    "nfl_pro_bowl_qb_list = [x.replace(\"*\", \"\") for x in nfl_pro_bowl_qb_list]\n",
    "nfl_pro_bowl_qb_list = list(set(nfl_pro_bowl_qb_list))\n",
    "\n",
    "# now that we have our list, we can create our column in the nfl_qb_df that shows those quarterbacks who have been selected to a pro-bowl\n",
    "pro_bowl_qb = pd.DataFrame({'name': nfl_pro_bowl_qb_list, 'Boolean': True})\n",
    "nfl_qb_df['Pro Bowl Selection'] = nfl_qb_df['Player'].isin(pro_bowl_qb['name'])\n",
    "nfl_qb_df['Pro Bowl Selection']\n",
    "\n",
    "\n",
    "\n"
   ]
  },
  {
   "cell_type": "code",
   "execution_count": 160,
   "metadata": {},
   "outputs": [],
   "source": [
    "'''# Now we need a column denoting those NFL QB's who have started at least half of their games \n",
    "(datframe is already filterd to those qb's that have played at least 5 years).'''\n",
    "\n",
    "# Successful QB column\n",
    "# I believe it is safe to assume that if a qb has made the pro-bowl, they have started at least half of their\n",
    "# games, so we will make the column denote 1 for those that \n",
    "\n",
    "nfl_qb_df['Pct_Games_Started'] = nfl_qb_df['games_started']/nfl_qb_df['games']\n",
    "# nfl_qb_df['Pct_Games_Started']\n",
    "\n",
    "def start_hurdle(percentage):\n",
    "    if percentage >= 0.50: \n",
    "        return 1 \n",
    "    else: \n",
    "        return 0\n",
    "\n",
    "nfl_qb_df['Successful_QB'] = nfl_qb_df['games_started'].apply(start_hurdle)\n"
   ]
  },
  {
   "cell_type": "code",
   "execution_count": 161,
   "metadata": {},
   "outputs": [
    {
     "name": "stdout",
     "output_type": "stream",
     "text": [
      "(158, 2)\n"
     ]
    }
   ],
   "source": [
    "# Now we can carry this list of qb's back to the college dataframe to denote those quarterbacks that were successful.\n",
    "\n",
    "# master_qb_df.csv has the list of names under the column 'name'\n",
    "# nfl_qb_df_filter has list of names under the column 'Player'\n",
    "\n",
    "success_nfl_qb_df = nfl_qb_df[['Player', 'Successful_QB']]\n",
    "print(success_nfl_qb_df.shape)\n",
    "\n",
    "final_df = college_qb_df.merge(success_nfl_qb_df, left_on='name', right_on='Player', how='left')\n",
    "final_df['Successful_QB'] = final_df['Successful_QB'].fillna(0)\n",
    "final_df['Player'] = final_df['Player'].fillna(final_df['name'])\n",
    "\n"
   ]
  },
  {
   "cell_type": "code",
   "execution_count": 162,
   "metadata": {},
   "outputs": [
    {
     "name": "stdout",
     "output_type": "stream",
     "text": [
      "<class 'pandas.core.frame.DataFrame'>\n",
      "Int64Index: 1438 entries, 0 to 1437\n",
      "Data columns (total 26 columns):\n",
      " #   Column                            Non-Null Count  Dtype  \n",
      "---  ------                            --------------  -----  \n",
      " 0   adjusted_yards_per_attempt        1365 non-null   float64\n",
      " 1   completed_passes                  1365 non-null   float64\n",
      " 2   interceptions_thrown              1365 non-null   float64\n",
      " 3   name                              1438 non-null   object \n",
      " 4   pass_attempts                     1365 non-null   float64\n",
      " 5   passing_completion                1365 non-null   float64\n",
      " 6   passing_touchdowns                1365 non-null   float64\n",
      " 7   passing_yards                     1365 non-null   float64\n",
      " 8   passing_yards_per_attempt         1365 non-null   float64\n",
      " 9   player_id                         1438 non-null   object \n",
      " 10  plays_from_scrimmage              1381 non-null   float64\n",
      " 11  points                            987 non-null    float64\n",
      " 12  position                          1438 non-null   object \n",
      " 13  quarterback_rating                1365 non-null   float64\n",
      " 14  rush_attempts                     1378 non-null   float64\n",
      " 15  rush_touchdowns                   1378 non-null   float64\n",
      " 16  rush_yards                        1378 non-null   float64\n",
      " 17  rush_yards_per_attempt            1375 non-null   float64\n",
      " 18  rushing_and_receiving_touchdowns  1381 non-null   float64\n",
      " 19  season                            1438 non-null   object \n",
      " 20  team_abbreviation                 1438 non-null   object \n",
      " 21  total_touchdowns                  987 non-null    float64\n",
      " 22  yards_from_scrimmage              1381 non-null   float64\n",
      " 23  yards_from_scrimmage_per_play     1381 non-null   float64\n",
      " 24  Player                            1438 non-null   object \n",
      " 25  Successful_QB                     1438 non-null   float64\n",
      "dtypes: float64(20), object(6)\n",
      "memory usage: 303.3+ KB\n"
     ]
    }
   ],
   "source": [
    "\n",
    "# Delete columns containing either 35% or more than 35% NaN Values\n",
    "perc = 35.0\n",
    "min_count =  int(((100-perc)/100)*final_df.shape[0] + 1)\n",
    "final_df = final_df.dropna( axis=1, \n",
    "                thresh=min_count)\n",
    "final_df = final_df.drop(columns=['Unnamed: 0'])\n",
    "final_df.info()"
   ]
  },
  {
   "cell_type": "code",
   "execution_count": 167,
   "metadata": {},
   "outputs": [
    {
     "name": "stdout",
     "output_type": "stream",
     "text": [
      "<class 'pandas.core.frame.DataFrame'>\n",
      "RangeIndex: 1438 entries, 0 to 1437\n",
      "Data columns (total 22 columns):\n",
      " #   Column                            Non-Null Count  Dtype  \n",
      "---  ------                            --------------  -----  \n",
      " 0   level_0                           1438 non-null   int64  \n",
      " 1   index                             1438 non-null   int64  \n",
      " 2   adjusted_yards_per_attempt        1438 non-null   float64\n",
      " 3   completed_passes                  1438 non-null   float64\n",
      " 4   interceptions_thrown              1438 non-null   float64\n",
      " 5   pass_attempts                     1438 non-null   float64\n",
      " 6   passing_completion                1438 non-null   float64\n",
      " 7   passing_touchdowns                1438 non-null   float64\n",
      " 8   passing_yards                     1438 non-null   float64\n",
      " 9   passing_yards_per_attempt         1438 non-null   float64\n",
      " 10  plays_from_scrimmage              1438 non-null   float64\n",
      " 11  points                            1438 non-null   float64\n",
      " 12  quarterback_rating                1438 non-null   float64\n",
      " 13  rush_attempts                     1438 non-null   float64\n",
      " 14  rush_touchdowns                   1438 non-null   float64\n",
      " 15  rush_yards                        1438 non-null   float64\n",
      " 16  rush_yards_per_attempt            1438 non-null   float64\n",
      " 17  rushing_and_receiving_touchdowns  1438 non-null   float64\n",
      " 18  total_touchdowns                  1438 non-null   float64\n",
      " 19  yards_from_scrimmage              1438 non-null   float64\n",
      " 20  yards_from_scrimmage_per_play     1438 non-null   float64\n",
      " 21  Successful_QB                     1438 non-null   float64\n",
      "dtypes: float64(20), int64(2)\n",
      "memory usage: 247.3 KB\n",
      "None\n",
      "Feature: 0, Score: 0.00002\n",
      "Feature: 1, Score: 0.00002\n",
      "Feature: 2, Score: 0.00103\n",
      "Feature: 3, Score: -0.00005\n",
      "Feature: 4, Score: 0.00065\n",
      "Feature: 5, Score: -0.00034\n",
      "Feature: 6, Score: 0.00003\n",
      "Feature: 7, Score: 0.00072\n",
      "Feature: 8, Score: 0.00006\n",
      "Feature: 9, Score: -0.00040\n",
      "Feature: 10, Score: 0.00130\n",
      "Feature: 11, Score: 0.00567\n",
      "Feature: 12, Score: -0.00013\n",
      "Feature: 13, Score: -0.00166\n",
      "Feature: 14, Score: 0.00114\n",
      "Feature: 15, Score: 0.00019\n",
      "Feature: 16, Score: -0.00002\n",
      "Feature: 17, Score: 0.02768\n",
      "Feature: 18, Score: -0.05734\n",
      "Feature: 19, Score: -0.00019\n",
      "Feature: 20, Score: 0.00114\n"
     ]
    }
   ],
   "source": [
    "# Ready for feature importance selection.\n",
    "from sklearn.linear_model import LinearRegression\n",
    "\n",
    "# need to drop columns that are something other than numbers (name, player_id, position, season, Player)\n",
    "# final_df = final_df.drop(columns=['name', 'player_id', 'position', 'season', 'team_abbreviation','Player'])\n",
    "# final_df = final_df.reset_index()\n",
    "\n",
    "final_df = final_df.fillna(0)\n",
    "print(final_df.info())\n",
    "model = LinearRegression()\n",
    "X = final_df.loc[:,final_df.columns != 'Successful_QB']\n",
    "y = final_df['Successful_QB']\n",
    "\n",
    "model.fit(X,y)\n",
    "importance = model.coef_\n",
    "# summarize feature importance\n",
    "for i,v in enumerate(importance):\n",
    "\tprint('Feature: %0d, Score: %.5f' % (i,v))\n"
   ]
  }
 ],
 "metadata": {
  "interpreter": {
   "hash": "bf60427b139290154779a7e38fd0f127f78e5a9dfc17b4a4bd1d849158c5fa70"
  },
  "kernelspec": {
   "display_name": "Python 3.7.6 64-bit ('base': conda)",
   "name": "python3"
  },
  "language_info": {
   "codemirror_mode": {
    "name": "ipython",
    "version": 3
   },
   "file_extension": ".py",
   "mimetype": "text/x-python",
   "name": "python",
   "nbconvert_exporter": "python",
   "pygments_lexer": "ipython3",
   "version": "3.7.6"
  },
  "orig_nbformat": 4
 },
 "nbformat": 4,
 "nbformat_minor": 2
}
