{
 "cells": [
  {
   "cell_type": "markdown",
   "metadata": {
    "collapsed": true,
    "pycharm": {
     "name": "#%% md\n"
    }
   },
   "source": [
    "# Ramsey King\n",
    "# DSC 630 - Predictive Analytics\n",
    "# September 5, 2021\n",
    "# Exercise 1.2"
   ]
  },
  {
   "cell_type": "code",
   "execution_count": 1,
   "outputs": [],
   "source": [
    "import pandas as pd\n",
    "import numpy as np\n",
    "\n",
    "blm_data = pd.read_csv('week1blsfile.csv')"
   ],
   "metadata": {
    "collapsed": false,
    "pycharm": {
     "name": "#%%\n"
    }
   }
  },
  {
   "cell_type": "markdown",
   "source": [
    "The following categories were imported into the file:\n",
    "- CES0500000002 - AVERAGE WEEKLY HOURS OF ALL EMPLOYEES - Total private\n",
    "- CES2000000010 - WOMEN EMPLOYEES, THOUSANDS - Construction\n",
    "- CES0000000001 - ALL EMPLOYEES, THOUSANDS - Total nonfarm\n",
    "- CES3000000010 - WOMEN EMPLOYEES, THOUSANDS - Manufacturing\n",
    "- CES3232500010 - WOMEN EMPLOYEES, THOUSANDS - Chemicals\n",
    "- CES4142460010 - WOMEN EMPLOYEES, THOUSANDS - Chemicals\n",
    "- CES4142470010 - WOMEN EMPLOYEES, THOUSANDS - Petroleum\n",
    "- CES5000000010 - WOMEN EMPLOYEES, THOUSANDS - Information\n",
    "- CES9000000010 - WOMEN EMPLOYEES, THOUSANDS - Government\n",
    "- CEU0000000001 - ALL EMPLOYEES, THOUSANDS - Total nonfarm\n",
    "\n",
    "For comparison purposes, we will delete all categories not named 'Women Employees, Thousands' from the data set"
   ],
   "metadata": {
    "collapsed": false,
    "pycharm": {
     "name": "#%% md\n"
    }
   }
  },
  {
   "cell_type": "code",
   "execution_count": 2,
   "outputs": [
    {
     "data": {
      "text/plain": "       Series ID  Year Period     Label     Value\n0  CES0000000001  2000    M01  2000 Jan  131005.0\n1  CES0000000001  2000    M02  2000 Feb  131124.0\n2  CES0000000001  2000    M03  2000 Mar  131596.0\n3  CES0000000001  2000    M04  2000 Apr  131888.0\n4  CES0000000001  2000    M05  2000 May  132105.0",
      "text/html": "<div>\n<style scoped>\n    .dataframe tbody tr th:only-of-type {\n        vertical-align: middle;\n    }\n\n    .dataframe tbody tr th {\n        vertical-align: top;\n    }\n\n    .dataframe thead th {\n        text-align: right;\n    }\n</style>\n<table border=\"1\" class=\"dataframe\">\n  <thead>\n    <tr style=\"text-align: right;\">\n      <th></th>\n      <th>Series ID</th>\n      <th>Year</th>\n      <th>Period</th>\n      <th>Label</th>\n      <th>Value</th>\n    </tr>\n  </thead>\n  <tbody>\n    <tr>\n      <th>0</th>\n      <td>CES0000000001</td>\n      <td>2000</td>\n      <td>M01</td>\n      <td>2000 Jan</td>\n      <td>131005.0</td>\n    </tr>\n    <tr>\n      <th>1</th>\n      <td>CES0000000001</td>\n      <td>2000</td>\n      <td>M02</td>\n      <td>2000 Feb</td>\n      <td>131124.0</td>\n    </tr>\n    <tr>\n      <th>2</th>\n      <td>CES0000000001</td>\n      <td>2000</td>\n      <td>M03</td>\n      <td>2000 Mar</td>\n      <td>131596.0</td>\n    </tr>\n    <tr>\n      <th>3</th>\n      <td>CES0000000001</td>\n      <td>2000</td>\n      <td>M04</td>\n      <td>2000 Apr</td>\n      <td>131888.0</td>\n    </tr>\n    <tr>\n      <th>4</th>\n      <td>CES0000000001</td>\n      <td>2000</td>\n      <td>M05</td>\n      <td>2000 May</td>\n      <td>132105.0</td>\n    </tr>\n  </tbody>\n</table>\n</div>"
     },
     "execution_count": 2,
     "metadata": {},
     "output_type": "execute_result"
    }
   ],
   "source": [
    "blm_data.head()\n",
    "\n"
   ],
   "metadata": {
    "collapsed": false,
    "pycharm": {
     "name": "#%%\n"
    }
   }
  }
 ],
 "metadata": {
  "kernelspec": {
   "display_name": "Python 3",
   "language": "python",
   "name": "python3"
  },
  "language_info": {
   "codemirror_mode": {
    "name": "ipython",
    "version": 2
   },
   "file_extension": ".py",
   "mimetype": "text/x-python",
   "name": "python",
   "nbconvert_exporter": "python",
   "pygments_lexer": "ipython2",
   "version": "2.7.6"
  }
 },
 "nbformat": 4,
 "nbformat_minor": 0
}